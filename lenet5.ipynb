{
  "nbformat": 4,
  "nbformat_minor": 0,
  "metadata": {
    "colab": {
      "provenance": []
    },
    "kernelspec": {
      "name": "python3",
      "display_name": "Python 3"
    },
    "language_info": {
      "name": "python"
    },
    "accelerator": "GPU",
    "gpuClass": "standard"
  },
  "cells": [
    {
      "cell_type": "code",
      "execution_count": 1,
      "metadata": {
        "id": "PZ_bo6xssYwP"
      },
      "outputs": [],
      "source": [
        "from keras.datasets import mnist\n",
        "from keras.utils import to_categorical\n",
        "from keras.layers import *\n",
        "from keras.models import *\n",
        "import matplotlib.pyplot as plt"
      ]
    },
    {
      "cell_type": "code",
      "source": [
        "(train_images,train_labels ), (validation_images,validation_labels)=mnist.load_data()\n",
        "print(\"training dataset\")\n",
        "print(train_images.shape)\n",
        "print(train_labels.shape)\n",
        "print(\"validation dataset\")\n",
        "print(validation_images.shape)\n",
        "print(validation_labels.shape)\n"
      ],
      "metadata": {
        "colab": {
          "base_uri": "https://localhost:8080/"
        },
        "id": "f-rtRwtBs2rn",
        "outputId": "d55030e4-1d48-4275-8dc2-971e5ab3244d"
      },
      "execution_count": 2,
      "outputs": [
        {
          "output_type": "stream",
          "name": "stdout",
          "text": [
            "Downloading data from https://storage.googleapis.com/tensorflow/tf-keras-datasets/mnist.npz\n",
            "11490434/11490434 [==============================] - 2s 0us/step\n",
            "training dataset\n",
            "(60000, 28, 28)\n",
            "(60000,)\n",
            "validation dataset\n",
            "(10000, 28, 28)\n",
            "(10000,)\n"
          ]
        }
      ]
    },
    {
      "cell_type": "code",
      "source": [
        "plt.matshow(train_images[2],cmap='gray')\n",
        "plt.show()\n",
        "print(train_labels[2])"
      ],
      "metadata": {
        "colab": {
          "base_uri": "https://localhost:8080/",
          "height": 293
        },
        "id": "Oj9ezsVMteYC",
        "outputId": "48f63101-0dc0-4e29-c756-e5d8bf58803d"
      },
      "execution_count": 3,
      "outputs": [
        {
          "output_type": "display_data",
          "data": {
            "text/plain": [
              "<Figure size 288x288 with 1 Axes>"
            ],
            "image/png": "[encoded data removed]"
          },
          "metadata": {
            "needs_background": "light"
          }
        },
        {
          "output_type": "stream",
          "name": "stdout",
          "text": [
            "4\n"
          ]
        }
      ]
    },
    {
      "cell_type": "code",
      "source": [
        "train_images=train_images.reshape((60000,28,28,1))\n",
        "train_images=train_images.astype(\"float32\")/255\n",
        "print(\"before:\")\n",
        "print(train_labels.shape)\n",
        "print(train_labels[0])\n",
        "train_labels=to_categorical( train_labels)\n",
        "print(\"After\")\n",
        "print(train_labels.shape)\n",
        "print(train_labels[0])"
      ],
      "metadata": {
        "colab": {
          "base_uri": "https://localhost:8080/"
        },
        "id": "o4nrz9pBuBGD",
        "outputId": "4e9a36d1-567d-4885-93f7-147d4daa38fc"
      },
      "execution_count": 4,
      "outputs": [
        {
          "output_type": "stream",
          "name": "stdout",
          "text": [
            "before:\n",
            "(60000,)\n",
            "5\n",
            "After\n",
            "(60000, 10)\n",
            "[0. 0. 0. 0. 0. 1. 0. 0. 0. 0.]\n"
          ]
        }
      ]
    },
    {
      "cell_type": "code",
      "source": [
        "model=Sequential()\n",
        "model.add(Conv2D(filters=6,kernel_size=5,strides=1,activation=\"sigmoid\",input_shape=(28,28,1)))\n",
        "model.add(MaxPooling2D(pool_size=2,strides=2))\n",
        "model.add(Conv2D(filters=16,kernel_size=5,strides=1,activation=\"sigmoid\",input_shape=(14,14,6)))\n",
        "model.add(MaxPooling2D(pool_size=2,strides=2))\n",
        "model.add(Flatten())\n",
        "model.add(Dense(units=120,activation=\"sigmoid\"))\n",
        "model.add(Dense(units=84,activation='sigmoid'))\n",
        "model.add(Dense(units=10,activation='softmax'))\n",
        "model.compile(optimizer=\"adam\",loss=\"categorical_crossentropy\",metrics=['accuracy'])"
      ],
      "metadata": {
        "id": "IAgLqvBnvu7I"
      },
      "execution_count": 5,
      "outputs": []
    },
    {
      "cell_type": "code",
      "source": [
        "print(model.summary())\n"
      ],
      "metadata": {
        "colab": {
          "base_uri": "https://localhost:8080/"
        },
        "id": "AcTPi_9xx1Pi",
        "outputId": "499d6c48-ce54-4bf8-b58c-4b849dc41ed4"
      },
      "execution_count": 6,
      "outputs": [
        {
          "output_type": "stream",
          "name": "stdout",
          "text": [
            "Model: \"sequential\"\n",
            "_________________________________________________________________\n",
            " Layer (type)                Output Shape              Param #   \n",
            "=================================================================\n",
            " conv2d (Conv2D)             (None, 24, 24, 6)         156       \n",
            "                                                                 \n",
            " max_pooling2d (MaxPooling2D  (None, 12, 12, 6)        0         \n",
            " )                                                               \n",
            "                                                                 \n",
            " conv2d_1 (Conv2D)           (None, 8, 8, 16)          2416      \n",
            "                                                                 \n",
            " max_pooling2d_1 (MaxPooling  (None, 4, 4, 16)         0         \n",
            " 2D)                                                             \n",
            "                                                                 \n",
            " flatten (Flatten)           (None, 256)               0         \n",
            "                                                                 \n",
            " dense (Dense)               (None, 120)               30840     \n",
            "                                                                 \n",
            " dense_1 (Dense)             (None, 84)                10164     \n",
            "                                                                 \n",
            " dense_2 (Dense)             (None, 10)                850       \n",
            "                                                                 \n",
            "=================================================================\n",
            "Total params: 44,426\n",
            "Trainable params: 44,426\n",
            "Non-trainable params: 0\n",
            "_________________________________________________________________\n",
            "None\n"
          ]
        }
      ]
    },
    {
      "cell_type": "code",
      "source": [
        "model.fit(train_images,train_labels,epochs=10,batch_size=10,validation_split=0.2)"
      ],
      "metadata": {
        "colab": {
          "base_uri": "https://localhost:8080/"
        },
        "id": "DtAgFtAYx6o_",
        "outputId": "bb9cdf47-c938-4341-de28-1d318d21fa2b"
      },
      "execution_count": 7,
      "outputs": [
        {
          "output_type": "stream",
          "name": "stdout",
          "text": [
            "Epoch 1/10\n",
            "4800/4800 [==============================] - 26s 4ms/step - loss: 0.5015 - accuracy: 0.8395 - val_loss: 0.1269 - val_accuracy: 0.9622\n",
            "Epoch 2/10\n",
            "4800/4800 [==============================] - 18s 4ms/step - loss: 0.1048 - accuracy: 0.9681 - val_loss: 0.0826 - val_accuracy: 0.9758\n",
            "Epoch 3/10\n",
            "4800/4800 [==============================] - 18s 4ms/step - loss: 0.0749 - accuracy: 0.9765 - val_loss: 0.0769 - val_accuracy: 0.9768\n",
            "Epoch 4/10\n",
            "4800/4800 [==============================] - 19s 4ms/step - loss: 0.0594 - accuracy: 0.9814 - val_loss: 0.0699 - val_accuracy: 0.9798\n",
            "Epoch 5/10\n",
            "4800/4800 [==============================] - 19s 4ms/step - loss: 0.0484 - accuracy: 0.9846 - val_loss: 0.0587 - val_accuracy: 0.9822\n",
            "Epoch 6/10\n",
            "4800/4800 [==============================] - 19s 4ms/step - loss: 0.0411 - accuracy: 0.9867 - val_loss: 0.0619 - val_accuracy: 0.9819\n",
            "Epoch 7/10\n",
            "4800/4800 [==============================] - 22s 4ms/step - loss: 0.0344 - accuracy: 0.9892 - val_loss: 0.0577 - val_accuracy: 0.9840\n",
            "Epoch 8/10\n",
            "4800/4800 [==============================] - 18s 4ms/step - loss: 0.0291 - accuracy: 0.9909 - val_loss: 0.0584 - val_accuracy: 0.9838\n",
            "Epoch 9/10\n",
            "4800/4800 [==============================] - 19s 4ms/step - loss: 0.0247 - accuracy: 0.9922 - val_loss: 0.0526 - val_accuracy: 0.9857\n",
            "Epoch 10/10\n",
            "4800/4800 [==============================] - 20s 4ms/step - loss: 0.0213 - accuracy: 0.9931 - val_loss: 0.0587 - val_accuracy: 0.9834\n"
          ]
        },
        {
          "output_type": "execute_result",
          "data": {
            "text/plain": [
              "<keras.callbacks.History at 0x7fc35045f1c0>"
            ]
          },
          "metadata": {},
          "execution_count": 7
        }
      ]
    }
  ]
}
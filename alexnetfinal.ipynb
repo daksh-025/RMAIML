{
  "nbformat": 4,
  "nbformat_minor": 0,
  "metadata": {
    "colab": {
      "provenance": []
    },
    "kernelspec": {
      "name": "python3",
      "display_name": "Python 3"
    },
    "language_info": {
      "name": "python"
    },
    "accelerator": "GPU",
    "gpuClass": "standard"
  },
  "cells": [
    {
      "cell_type": "code",
      "execution_count": 49,
      "metadata": {
        "id": "tvbbY1UzAze4"
      },
      "outputs": [],
      "source": [
        "import tensorflow as tf\n",
        "from tensorflow import keras\n",
        "import matplotlib.pyplot as plt\n",
        "import os\n",
        "import time"
      ]
    },
    {
      "cell_type": "code",
      "source": [
        "(train_images, train_labels), (test_images, test_labels) = keras.datasets.cifar10.load_data()"
      ],
      "metadata": {
        "id": "HQYTM_5iBgS4"
      },
      "execution_count": 50,
      "outputs": []
    },
    {
      "cell_type": "code",
      "source": [
        "\n",
        "CLASS_NAMES= ['airplane', 'automobile', 'bird', 'cat', 'deer', 'dog', 'frog', 'horse', 'ship', 'truck']"
      ],
      "metadata": {
        "id": "4CBaKtvzBmfA"
      },
      "execution_count": 51,
      "outputs": []
    },
    {
      "cell_type": "code",
      "source": [
        "train_images.shape"
      ],
      "metadata": {
        "colab": {
          "base_uri": "https://localhost:8080/"
        },
        "id": "OSDGGhFBXAVV",
        "outputId": "b8f060e0-b8c5-49cb-c42d-84f0fd64064e"
      },
      "execution_count": 52,
      "outputs": [
        {
          "output_type": "execute_result",
          "data": {
            "text/plain": [
              "(50000, 32, 32, 3)"
            ]
          },
          "metadata": {},
          "execution_count": 52
        }
      ]
    },
    {
      "cell_type": "code",
      "source": [
        "validation_images, validation_labels = train_images[:10], train_labels[:10]\n",
        "train_images, train_labels = train_images[50:200], train_labels[50:200]"
      ],
      "metadata": {
        "id": "Mjq8XXBfBs_i"
      },
      "execution_count": 53,
      "outputs": []
    },
    {
      "cell_type": "code",
      "source": [
        "validation_images.shape"
      ],
      "metadata": {
        "colab": {
          "base_uri": "https://localhost:8080/"
        },
        "id": "D5CEVTNnVZKl",
        "outputId": "499252e1-9f69-4b31-f553-d3d04523d088"
      },
      "execution_count": 54,
      "outputs": [
        {
          "output_type": "execute_result",
          "data": {
            "text/plain": [
              "(10, 32, 32, 3)"
            ]
          },
          "metadata": {},
          "execution_count": 54
        }
      ]
    },
    {
      "cell_type": "code",
      "source": [
        "train_images.shape"
      ],
      "metadata": {
        "colab": {
          "base_uri": "https://localhost:8080/"
        },
        "id": "p7XDCSVXVrW8",
        "outputId": "48f5e493-7f14-4807-90a3-5f28662785d2"
      },
      "execution_count": 55,
      "outputs": [
        {
          "output_type": "execute_result",
          "data": {
            "text/plain": [
              "(150, 32, 32, 3)"
            ]
          },
          "metadata": {},
          "execution_count": 55
        }
      ]
    },
    {
      "cell_type": "code",
      "source": [
        "train_ds = tf.data.Dataset.from_tensor_slices((train_images, train_labels))\n",
        "test_ds = tf.data.Dataset.from_tensor_slices((test_images, test_labels))\n",
        "validation_ds = tf.data.Dataset.from_tensor_slices((validation_images, validation_labels))"
      ],
      "metadata": {
        "id": "4X_xGQmWBtGm"
      },
      "execution_count": 56,
      "outputs": []
    },
    {
      "cell_type": "code",
      "source": [
        "plt.figure(figsize=(20,20))\n",
        "for i, (image, label) in enumerate(train_ds.take(5)):\n",
        "    ax = plt.subplot(5,5,i+1)\n",
        "    plt.imshow(image)\n",
        "    plt.title(CLASS_NAMES[label.numpy()[0]])\n",
        "    plt.axis('off')"
      ],
      "metadata": {
        "colab": {
          "base_uri": "https://localhost:8080/",
          "height": 234
        },
        "id": "VLFA71-ZB0NF",
        "outputId": "407fe462-56bf-4fe6-b38a-bb0566819a8e"
      },
      "execution_count": 57,
      "outputs": [
        {
          "output_type": "display_data",
          "data": {
            "text/plain": [
              "<Figure size 1440x1440 with 5 Axes>"
            ],
            "image/png": "[encoded data removed]"
          },
          "metadata": {
            "needs_background": "light"
          }
        }
      ]
    },
    {
      "cell_type": "code",
      "source": [
        "def process_images(image, label):\n",
        "    # Normalize images to have a mean of 0 and standard deviation of 1\n",
        "    image = tf.image.per_image_standardization(image)\n",
        "    # Resize images from 32x32 to 277x277\n",
        "    image = tf.image.resize(image, (227,227))\n",
        "    return image, label"
      ],
      "metadata": {
        "id": "5z9ICdnkB5a1"
      },
      "execution_count": 58,
      "outputs": []
    },
    {
      "cell_type": "code",
      "source": [
        "train_ds_size = tf.data.experimental.cardinality(train_ds).numpy()\n",
        "test_ds_size = tf.data.experimental.cardinality(test_ds).numpy()\n",
        "validation_ds_size = tf.data.experimental.cardinality(validation_ds).numpy()\n",
        "print(\"Training data size:\", train_ds_size)\n",
        "print(\"Test data size:\", test_ds_size)\n",
        "print(\"Validation data size:\", validation_ds_size)"
      ],
      "metadata": {
        "colab": {
          "base_uri": "https://localhost:8080/"
        },
        "id": "t3P7aXXMB70a",
        "outputId": "c28c8749-045c-4216-88f5-aa3bf57c8d2e"
      },
      "execution_count": 59,
      "outputs": [
        {
          "output_type": "stream",
          "name": "stdout",
          "text": [
            "Training data size: 150\n",
            "Test data size: 10000\n",
            "Validation data size: 10\n"
          ]
        }
      ]
    },
    {
      "cell_type": "code",
      "source": [
        "train_ds = (train_ds\n",
        "                  .map(process_images)\n",
        "                  .shuffle(buffer_size=train_ds_size)\n",
        "                  .batch(batch_size=32, drop_remainder=True))\n",
        "test_ds = (test_ds\n",
        "                  .map(process_images)\n",
        "                  .shuffle(buffer_size=train_ds_size)\n",
        "                  .batch(batch_size=32, drop_remainder=True))\n",
        "validation_ds = (validation_ds\n",
        "                  .map(process_images)\n",
        "                  .shuffle(buffer_size=train_ds_size)\n",
        "                  .batch(batch_size=32, drop_remainder=True))"
      ],
      "metadata": {
        "id": "H0ZnPcTuCA2h"
      },
      "execution_count": 60,
      "outputs": []
    },
    {
      "cell_type": "code",
      "source": [
        "model = keras.models.Sequential([\n",
        "    keras.layers.Conv2D(filters=96, kernel_size=(11,11), strides=(4,4), activation='relu', input_shape=(227,227,3)),\n",
        "    keras.layers.BatchNormalization(),\n",
        "    keras.layers.MaxPool2D(pool_size=(3,3), strides=(2,2)),\n",
        "    keras.layers.Conv2D(filters=256, kernel_size=(5,5), strides=(1,1), activation='relu', padding=\"same\"),\n",
        "    keras.layers.BatchNormalization(),\n",
        "    keras.layers.MaxPool2D(pool_size=(3,3), strides=(2,2)),\n",
        "    keras.layers.Conv2D(filters=384, kernel_size=(3,3), strides=(1,1), activation='relu', padding=\"same\"),\n",
        "    keras.layers.BatchNormalization(),\n",
        "    keras.layers.Conv2D(filters=384, kernel_size=(3,3), strides=(1,1), activation='relu', padding=\"same\"),\n",
        "    keras.layers.BatchNormalization(),\n",
        "    keras.layers.Conv2D(filters=256, kernel_size=(3,3), strides=(1,1), activation='relu', padding=\"same\"),\n",
        "    keras.layers.BatchNormalization(),\n",
        "    keras.layers.MaxPool2D(pool_size=(3,3), strides=(2,2)),\n",
        "    keras.layers.Flatten(),\n",
        "    keras.layers.Dense(4096, activation='relu'),\n",
        "    keras.layers.Dropout(0.5),\n",
        "    keras.layers.Dense(4096, activation='relu'),\n",
        "    keras.layers.Dropout(0.5),\n",
        "    keras.layers.Dense(10, activation='softmax')\n",
        "])"
      ],
      "metadata": {
        "id": "oPC0NcowCEuv"
      },
      "execution_count": 61,
      "outputs": []
    },
    {
      "cell_type": "code",
      "source": [
        "root_logdir = os.path.join(os.curdir, \"logs\\\\fit\\\\\")\n",
        "def get_run_logdir():\n",
        "    run_id = time.strftime(\"run_%Y_%m_%d-%H_%M_%S\")\n",
        "    return os.path.join(root_logdir, run_id)\n",
        "run_logdir = get_run_logdir()\n",
        "tensorboard_cb = keras.callbacks.TensorBoard(run_logdir)"
      ],
      "metadata": {
        "id": "KsBQslW4CIJE"
      },
      "execution_count": 62,
      "outputs": []
    },
    {
      "cell_type": "code",
      "source": [
        "model.compile(loss='sparse_categorical_crossentropy', optimizer=tf.optimizers.SGD(lr=0.001), metrics=['accuracy'])\n",
        "model.summary()"
      ],
      "metadata": {
        "colab": {
          "base_uri": "https://localhost:8080/"
        },
        "id": "Vi_mcO-NCLX8",
        "outputId": "d1f2adca-87c7-4870-b88f-3057bd70f55e"
      },
      "execution_count": 63,
      "outputs": [
        {
          "output_type": "stream",
          "name": "stderr",
          "text": [
            "WARNING:absl:`lr` is deprecated, please use `learning_rate` instead, or use the legacy optimizer, e.g.,tf.keras.optimizers.legacy.SGD.\n"
          ]
        },
        {
          "output_type": "stream",
          "name": "stdout",
          "text": [
            "Model: \"sequential\"\n",
            "_________________________________________________________________\n",
            " Layer (type)                Output Shape              Param #   \n",
            "=================================================================\n",
            " conv2d (Conv2D)             (None, 55, 55, 96)        34944     \n",
            "                                                                 \n",
            " batch_normalization (BatchN  (None, 55, 55, 96)       384       \n",
            " ormalization)                                                   \n",
            "                                                                 \n",
            " max_pooling2d (MaxPooling2D  (None, 27, 27, 96)       0         \n",
            " )                                                               \n",
            "                                                                 \n",
            " conv2d_1 (Conv2D)           (None, 27, 27, 256)       614656    \n",
            "                                                                 \n",
            " batch_normalization_1 (Batc  (None, 27, 27, 256)      1024      \n",
            " hNormalization)                                                 \n",
            "                                                                 \n",
            " max_pooling2d_1 (MaxPooling  (None, 13, 13, 256)      0         \n",
            " 2D)                                                             \n",
            "                                                                 \n",
            " conv2d_2 (Conv2D)           (None, 13, 13, 384)       885120    \n",
            "                                                                 \n",
            " batch_normalization_2 (Batc  (None, 13, 13, 384)      1536      \n",
            " hNormalization)                                                 \n",
            "                                                                 \n",
            " conv2d_3 (Conv2D)           (None, 13, 13, 384)       1327488   \n",
            "                                                                 \n",
            " batch_normalization_3 (Batc  (None, 13, 13, 384)      1536      \n",
            " hNormalization)                                                 \n",
            "                                                                 \n",
            " conv2d_4 (Conv2D)           (None, 13, 13, 256)       884992    \n",
            "                                                                 \n",
            " batch_normalization_4 (Batc  (None, 13, 13, 256)      1024      \n",
            " hNormalization)                                                 \n",
            "                                                                 \n",
            " max_pooling2d_2 (MaxPooling  (None, 6, 6, 256)        0         \n",
            " 2D)                                                             \n",
            "                                                                 \n",
            " flatten (Flatten)           (None, 9216)              0         \n",
            "                                                                 \n",
            " dense (Dense)               (None, 4096)              37752832  \n",
            "                                                                 \n",
            " dropout (Dropout)           (None, 4096)              0         \n",
            "                                                                 \n",
            " dense_1 (Dense)             (None, 4096)              16781312  \n",
            "                                                                 \n",
            " dropout_1 (Dropout)         (None, 4096)              0         \n",
            "                                                                 \n",
            " dense_2 (Dense)             (None, 10)                40970     \n",
            "                                                                 \n",
            "=================================================================\n",
            "Total params: 58,327,818\n",
            "Trainable params: 58,325,066\n",
            "Non-trainable params: 2,752\n",
            "_________________________________________________________________\n"
          ]
        }
      ]
    },
    {
      "cell_type": "code",
      "source": [
        "model.fit(train_ds,\n",
        "          epochs=50,\n",
        "          validation_data=validation_ds,\n",
        "          validation_freq=1,\n",
        "          callbacks=[tensorboard_cb])"
      ],
      "metadata": {
        "colab": {
          "base_uri": "https://localhost:8080/"
        },
        "id": "YKKDxQEICO_a",
        "outputId": "50584f0a-d260-4899-bd0e-bbcabd815716"
      },
      "execution_count": 64,
      "outputs": [
        {
          "output_type": "stream",
          "name": "stdout",
          "text": [
            "Epoch 1/50\n",
            "4/4 [==============================] - 11s 59ms/step - loss: 15.6352 - accuracy: 0.1016\n",
            "Epoch 2/50\n",
            "4/4 [==============================] - 0s 48ms/step - loss: 9.0672 - accuracy: 0.1172\n",
            "Epoch 3/50\n",
            "4/4 [==============================] - 0s 50ms/step - loss: 2.7032 - accuracy: 0.3203\n",
            "Epoch 4/50\n",
            "4/4 [==============================] - 0s 52ms/step - loss: 1.5529 - accuracy: 0.4766\n",
            "Epoch 5/50\n",
            "4/4 [==============================] - 0s 53ms/step - loss: 1.3468 - accuracy: 0.5000\n",
            "Epoch 6/50\n",
            "4/4 [==============================] - 0s 49ms/step - loss: 0.9692 - accuracy: 0.6875\n",
            "Epoch 7/50\n",
            "4/4 [==============================] - 0s 52ms/step - loss: 0.8125 - accuracy: 0.6719\n",
            "Epoch 8/50\n",
            "4/4 [==============================] - 0s 49ms/step - loss: 0.5689 - accuracy: 0.8438\n",
            "Epoch 9/50\n",
            "4/4 [==============================] - 0s 49ms/step - loss: 0.6077 - accuracy: 0.7969\n",
            "Epoch 10/50\n",
            "4/4 [==============================] - 0s 57ms/step - loss: 0.4313 - accuracy: 0.8594\n",
            "Epoch 11/50\n",
            "4/4 [==============================] - 0s 53ms/step - loss: 0.3599 - accuracy: 0.8828\n",
            "Epoch 12/50\n",
            "4/4 [==============================] - 0s 50ms/step - loss: 0.4595 - accuracy: 0.8594\n",
            "Epoch 13/50\n",
            "4/4 [==============================] - 0s 49ms/step - loss: 0.3670 - accuracy: 0.8906\n",
            "Epoch 14/50\n",
            "4/4 [==============================] - 0s 50ms/step - loss: 0.3136 - accuracy: 0.8828\n",
            "Epoch 15/50\n",
            "4/4 [==============================] - 0s 50ms/step - loss: 0.2011 - accuracy: 0.9375\n",
            "Epoch 16/50\n",
            "4/4 [==============================] - 0s 52ms/step - loss: 0.1925 - accuracy: 0.9609\n",
            "Epoch 17/50\n",
            "4/4 [==============================] - 0s 55ms/step - loss: 0.1703 - accuracy: 0.9453\n",
            "Epoch 18/50\n",
            "4/4 [==============================] - 0s 53ms/step - loss: 0.1152 - accuracy: 0.9844\n",
            "Epoch 19/50\n",
            "4/4 [==============================] - 0s 53ms/step - loss: 0.1235 - accuracy: 0.9766\n",
            "Epoch 20/50\n",
            "4/4 [==============================] - 0s 54ms/step - loss: 0.0847 - accuracy: 0.9766\n",
            "Epoch 21/50\n",
            "4/4 [==============================] - 0s 56ms/step - loss: 0.1381 - accuracy: 0.9453\n",
            "Epoch 22/50\n",
            "4/4 [==============================] - 0s 51ms/step - loss: 0.0756 - accuracy: 1.0000\n",
            "Epoch 23/50\n",
            "4/4 [==============================] - 0s 50ms/step - loss: 0.0989 - accuracy: 0.9766\n",
            "Epoch 24/50\n",
            "4/4 [==============================] - 0s 49ms/step - loss: 0.0868 - accuracy: 0.9844\n",
            "Epoch 25/50\n",
            "4/4 [==============================] - 0s 51ms/step - loss: 0.0607 - accuracy: 0.9922\n",
            "Epoch 26/50\n",
            "4/4 [==============================] - 0s 52ms/step - loss: 0.0514 - accuracy: 1.0000\n",
            "Epoch 27/50\n",
            "4/4 [==============================] - 0s 50ms/step - loss: 0.0409 - accuracy: 1.0000\n",
            "Epoch 28/50\n",
            "4/4 [==============================] - 0s 49ms/step - loss: 0.0419 - accuracy: 0.9922\n",
            "Epoch 29/50\n",
            "4/4 [==============================] - 0s 49ms/step - loss: 0.0444 - accuracy: 0.9922\n",
            "Epoch 30/50\n",
            "4/4 [==============================] - 0s 53ms/step - loss: 0.0446 - accuracy: 1.0000\n",
            "Epoch 31/50\n",
            "4/4 [==============================] - 0s 49ms/step - loss: 0.0399 - accuracy: 0.9922\n",
            "Epoch 32/50\n",
            "4/4 [==============================] - 0s 52ms/step - loss: 0.0278 - accuracy: 1.0000\n",
            "Epoch 33/50\n",
            "4/4 [==============================] - 0s 51ms/step - loss: 0.0302 - accuracy: 1.0000\n",
            "Epoch 34/50\n",
            "4/4 [==============================] - 0s 51ms/step - loss: 0.0263 - accuracy: 1.0000\n",
            "Epoch 35/50\n",
            "4/4 [==============================] - 0s 51ms/step - loss: 0.0399 - accuracy: 0.9922\n",
            "Epoch 36/50\n",
            "4/4 [==============================] - 0s 53ms/step - loss: 0.0337 - accuracy: 1.0000\n",
            "Epoch 37/50\n",
            "4/4 [==============================] - 0s 51ms/step - loss: 0.0196 - accuracy: 1.0000\n",
            "Epoch 38/50\n",
            "4/4 [==============================] - 0s 51ms/step - loss: 0.0190 - accuracy: 1.0000\n",
            "Epoch 39/50\n",
            "4/4 [==============================] - 0s 51ms/step - loss: 0.0366 - accuracy: 0.9844\n",
            "Epoch 40/50\n",
            "4/4 [==============================] - 0s 51ms/step - loss: 0.0330 - accuracy: 1.0000\n",
            "Epoch 41/50\n",
            "4/4 [==============================] - 0s 50ms/step - loss: 0.0332 - accuracy: 1.0000\n",
            "Epoch 42/50\n",
            "4/4 [==============================] - 0s 50ms/step - loss: 0.0206 - accuracy: 1.0000\n",
            "Epoch 43/50\n",
            "4/4 [==============================] - 0s 50ms/step - loss: 0.0240 - accuracy: 0.9922\n",
            "Epoch 44/50\n",
            "4/4 [==============================] - 0s 50ms/step - loss: 0.0163 - accuracy: 1.0000\n",
            "Epoch 45/50\n",
            "4/4 [==============================] - 0s 50ms/step - loss: 0.0343 - accuracy: 0.9922\n",
            "Epoch 46/50\n",
            "4/4 [==============================] - 0s 49ms/step - loss: 0.0200 - accuracy: 1.0000\n",
            "Epoch 47/50\n",
            "4/4 [==============================] - 0s 50ms/step - loss: 0.0279 - accuracy: 0.9922\n",
            "Epoch 48/50\n",
            "4/4 [==============================] - 0s 54ms/step - loss: 0.0216 - accuracy: 1.0000\n",
            "Epoch 49/50\n",
            "4/4 [==============================] - 0s 50ms/step - loss: 0.0142 - accuracy: 1.0000\n",
            "Epoch 50/50\n",
            "4/4 [==============================] - 0s 51ms/step - loss: 0.0220 - accuracy: 1.0000\n"
          ]
        },
        {
          "output_type": "execute_result",
          "data": {
            "text/plain": [
              "<keras.callbacks.History at 0x7f6b2027aaf0>"
            ]
          },
          "metadata": {},
          "execution_count": 64
        }
      ]
    }
  ]
}